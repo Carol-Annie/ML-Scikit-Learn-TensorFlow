{
  "cells": [
    {
      "cell_type": "markdown",
      "metadata": {
        "id": "LOT3njcA28Kb"
      },
      "source": [
        "### Bibliotecas necessárias"
      ]
    },
    {
      "cell_type": "code",
      "execution_count": 1,
      "metadata": {
        "colab": {
          "base_uri": "https://localhost:8080/"
        },
        "id": "AzU9YXBZ28Kd",
        "outputId": "aa65167b-90f6-4c50-f7f9-8d1b951116a1"
      },
      "outputs": [
        {
          "output_type": "stream",
          "name": "stdout",
          "text": [
            "Requirement already satisfied: nltk in /usr/local/lib/python3.7/dist-packages (3.2.5)\n",
            "Requirement already satisfied: six in /usr/local/lib/python3.7/dist-packages (from nltk) (1.15.0)\n"
          ]
        }
      ],
      "source": [
        "! pip install nltk"
      ]
    },
    {
      "cell_type": "code",
      "execution_count": 3,
      "metadata": {
        "id": "usguOHY328Kg"
      },
      "outputs": [],
      "source": [
        "import nltk\n",
        "from sklearn.feature_extraction.text import TfidfVectorizer\n",
        "import pandas as pd"
      ]
    },
    {
      "cell_type": "markdown",
      "metadata": {
        "id": "a5ELCapZ28Kh"
      },
      "source": [
        "### Pacotes necessários"
      ]
    },
    {
      "cell_type": "code",
      "execution_count": 4,
      "metadata": {
        "colab": {
          "base_uri": "https://localhost:8080/"
        },
        "id": "rK-1AIEZ28Ki",
        "outputId": "ccc37df4-8d08-4823-f339-8fa207a779f8"
      },
      "outputs": [
        {
          "output_type": "stream",
          "name": "stdout",
          "text": [
            "[nltk_data] Downloading package stopwords to /root/nltk_data...\n",
            "[nltk_data]   Unzipping corpora/stopwords.zip.\n",
            "[nltk_data] Downloading package punkt to /root/nltk_data...\n",
            "[nltk_data]   Unzipping tokenizers/punkt.zip.\n"
          ]
        },
        {
          "output_type": "execute_result",
          "data": {
            "text/plain": [
              "True"
            ]
          },
          "metadata": {},
          "execution_count": 4
        }
      ],
      "source": [
        "nltk.download('stopwords')\n",
        "nltk.download('punkt')"
      ]
    },
    {
      "cell_type": "markdown",
      "metadata": {
        "id": "L-NgVSHb28Kj"
      },
      "source": [
        "Use a variável texto a seguir para identificar as stop words\n",
        "e após isso aplique o cáculo do **TF-IDF** neste mesmo texto e observe os scores."
      ]
    },
    {
      "cell_type": "markdown",
      "metadata": {
        "id": "SCxfyFS928Kk"
      },
      "source": [
        "**OBS:** Para realizar essa tarefa utilize os módulos estudados na aula"
      ]
    },
    {
      "cell_type": "code",
      "execution_count": 10,
      "metadata": {
        "colab": {
          "base_uri": "https://localhost:8080/"
        },
        "id": "pF7Ml2Pa28Km",
        "outputId": "5db0c416-d1f2-4ef3-e700-74b5d66aa125"
      },
      "outputs": [
        {
          "output_type": "stream",
          "name": "stdout",
          "text": [
            "['em', 'uma', 'e', 'ao', 'por', 'um', 'o', 'o', 'e', 'o', 'do']\n"
          ]
        }
      ],
      "source": [
        "from nltk.tokenize import word_tokenize\n",
        "\n",
        "texto = 'Um carro azul seguia rapidamente em uma rodovia, e ao passar por um buraco, o carro furou o pneu, e o motorista desceu do carro azul'\n",
        "\n",
        "stopwords = nltk.corpus.stopwords.words('portuguese')\n",
        "tokens = word_tokenize(texto)\n",
        "\n",
        "list_stopwords = []\n",
        "\n",
        "for t in tokens:\n",
        "    if t in stopwords:\n",
        "        list_stopwords.append(t)\n",
        "\n",
        "print(list_stopwords)"
      ]
    },
    {
      "cell_type": "code",
      "source": [
        "tf_idf = TfidfVectorizer()\n",
        "\n",
        "vetor = tf_idf.fit_transform([texto])\n",
        "vetor = vetor.todense()\n",
        "\n",
        "nomes = tf_idf.get_feature_names()\n",
        "\n",
        "df = pd.DataFrame(vetor, columns=nomes)\n",
        "print(df)"
      ],
      "metadata": {
        "colab": {
          "base_uri": "https://localhost:8080/"
        },
        "id": "X8fBWxV44kNo",
        "outputId": "b2d16c95-0f95-4186-87dd-59e38fb44f40"
      },
      "execution_count": 11,
      "outputs": [
        {
          "output_type": "stream",
          "name": "stdout",
          "text": [
            "         ao      azul    buraco  ...    seguia        um       uma\n",
            "0  0.179605  0.359211  0.179605  ...  0.179605  0.359211  0.179605\n",
            "\n",
            "[1 rows x 17 columns]\n"
          ]
        },
        {
          "output_type": "stream",
          "name": "stderr",
          "text": [
            "/usr/local/lib/python3.7/dist-packages/sklearn/utils/deprecation.py:87: FutureWarning: Function get_feature_names is deprecated; get_feature_names is deprecated in 1.0 and will be removed in 1.2. Please use get_feature_names_out instead.\n",
            "  warnings.warn(msg, category=FutureWarning)\n"
          ]
        }
      ]
    }
  ],
  "metadata": {
    "kernelspec": {
      "display_name": "Python 3",
      "language": "python",
      "name": "python3"
    },
    "language_info": {
      "codemirror_mode": {
        "name": "ipython",
        "version": 3
      },
      "file_extension": ".py",
      "mimetype": "text/x-python",
      "name": "python",
      "nbconvert_exporter": "python",
      "pygments_lexer": "ipython3",
      "version": "3.7.7"
    },
    "colab": {
      "name": "Oficina_PLN.ipynb",
      "provenance": []
    }
  },
  "nbformat": 4,
  "nbformat_minor": 0
}